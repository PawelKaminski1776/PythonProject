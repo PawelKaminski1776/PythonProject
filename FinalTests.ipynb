{
 "cells": [
  {
   "cell_type": "code",
   "execution_count": 10,
   "id": "initial_id",
   "metadata": {
    "collapsed": true,
    "ExecuteTime": {
     "end_time": "2023-11-20T12:08:59.157119200Z",
     "start_time": "2023-11-20T12:08:59.115423800Z"
    }
   },
   "outputs": [
    {
     "name": "stdout",
     "output_type": "stream",
     "text": [
      "              Date / Time Country        City  State     Shape  \\\n",
      "0          12/21/16 19:15     USA  Waynesboro   5103    Sphere   \n",
      "1          12/21/16 00:00     USA  Louisville   5155   Unknown   \n",
      "2          12/20/16 22:30     USA  Santa Rosa   5172    Sphere   \n",
      "3          12/20/16 19:00     USA      Fresno   5172    Circle   \n",
      "4          12/19/16 21:53     USA     Reymert   5161    Circle   \n",
      "...                   ...     ...         ...    ...       ...   \n",
      "5172  2016-01-01 00:00:00     USA   Elk Grove   5172     Light   \n",
      "5173  2016-01-01 00:00:00     USA   Anchorage   5173    Circle   \n",
      "5174  2016-01-01 00:00:00     USA   Sodaville   5174    Sphere   \n",
      "5175  2016-01-01 00:00:00     USA      Arnold   5175  Triangle   \n",
      "5176  2016-01-01 00:00:00     USA      Vernon   5176    Sphere   \n",
      "\n",
      "                                                Summary        lat         lng  \n",
      "0                  Bright round object hovering in sky.  38.065229  -78.905888  \n",
      "1     Multiple craft ascending from north of Shelbyv...  38.254238  -85.759407  \n",
      "2     Bright orange planet-like object sighted near ...  38.440467 -122.714431  \n",
      "3         Twelve orange globes in formation over Fresno  36.729529 -119.708861  \n",
      "4     While camping in the Cottonwood canyon Rd., al...  33.229779 -111.209290  \n",
      "...                                                 ...        ...         ...  \n",
      "5172  6-7 peach-colored craft moving easterly direct...  38.408799 -121.371618  \n",
      "5173                          New Years yellow objects.  61.216313 -149.894852  \n",
      "5174  Two balls of orange light seen above the trees...  44.483395 -122.869982  \n",
      "5175  Triangle obj. moving W to SE from my position....  38.432832  -90.377619  \n",
      "5176                             Red sphere in the sky.  36.092946  -80.149628  \n",
      "\n",
      "[5177 rows x 8 columns]\n"
     ]
    }
   ],
   "source": [
    "import pandas as pd\n",
    "\n",
    "ds1 = pd.read_csv('UFO_Sightings.csv')\n",
    "ds2 = pd.read_csv('drugs.csv')\n",
    "\n",
    "\n",
    "reverse_mapping = {state: abbrev for abbrev, state in ds1['State'].items()}\n",
    "\n",
    "ds1['State'] = [reverse_mapping[state] for state in ds1['State']]\n",
    "\n",
    "print(ds1)"
   ]
  },
  {
   "cell_type": "code",
   "execution_count": null,
   "outputs": [],
   "source": [],
   "metadata": {
    "collapsed": false
   },
   "id": "3b706b4e13754d46"
  }
 ],
 "metadata": {
  "kernelspec": {
   "display_name": "Python 3",
   "language": "python",
   "name": "python3"
  },
  "language_info": {
   "codemirror_mode": {
    "name": "ipython",
    "version": 2
   },
   "file_extension": ".py",
   "mimetype": "text/x-python",
   "name": "python",
   "nbconvert_exporter": "python",
   "pygments_lexer": "ipython2",
   "version": "2.7.6"
  }
 },
 "nbformat": 4,
 "nbformat_minor": 5
}
