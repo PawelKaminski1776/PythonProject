{
 "cells": [
  {
   "cell_type": "code",
   "execution_count": 10,
   "id": "initial_id",
   "metadata": {
    "collapsed": true,
    "ExecuteTime": {
     "end_time": "2023-11-19T16:20:05.762167600Z",
     "start_time": "2023-11-19T16:20:05.729225Z"
    }
   },
   "outputs": [
    {
     "name": "stdout",
     "output_type": "stream",
     "text": [
      "0      Sphere\n",
      "1     Unknown\n",
      "2      Sphere\n",
      "3      Circle\n",
      "4      Circle\n",
      "5       Light\n",
      "6       Light\n",
      "7      Circle\n",
      "8    Cylinder\n",
      "9     Chevron\n",
      "Name: Shape, dtype: object\n",
      "5177\n",
      "21\n",
      "['Sphere' 'Unknown' 'Circle' 'Light' 'Cylinder' 'Chevron' 'Triangle'\n",
      " 'Formation' 'Other' 'Fireball' 'Oval' 'Egg' 'Flash' 'Disk' 'Changing'\n",
      " 'Cigar' 'Rectangle' 'Cone' 'Diamond' 'Cross' 'Teardrop']\n"
     ]
    }
   ],
   "source": [
    "import pandas as pd\n",
    "\n",
    "dp = pd.read_csv('UFO_Sightings.csv')\n",
    "\n",
    "print(dp['Shape'].head(10))\n",
    "print(dp['Shape'].count())\n",
    "print(dp['Shape'].nunique())\n",
    "unique_shapes = dp['Shape'].unique()\n",
    "print(unique_shapes)\n",
    "\n"
   ]
  },
  {
   "cell_type": "code",
   "execution_count": 17,
   "outputs": [
    {
     "name": "stdout",
     "output_type": "stream",
     "text": [
      "498\n"
     ]
    }
   ],
   "source": [
    "specific_shape = 'Triangle'\n",
    "count_specific_shape = (dp['Shape'] == specific_shape).sum()\n",
    "print(count_specific_shape)"
   ],
   "metadata": {
    "collapsed": false,
    "ExecuteTime": {
     "end_time": "2023-11-19T16:23:42.462128500Z",
     "start_time": "2023-11-19T16:23:42.441209900Z"
    }
   },
   "id": "36cdad4ea6d17a7f"
  },
  {
   "cell_type": "code",
   "execution_count": 15,
   "outputs": [
    {
     "name": "stdout",
     "output_type": "stream",
     "text": [
      "        Shape  Count\n",
      "0       Light   1118\n",
      "1      Circle    678\n",
      "2    Triangle    498\n",
      "3     Unknown    431\n",
      "4    Fireball    430\n",
      "5       Other    333\n",
      "6      Sphere    313\n",
      "7        Disk    210\n",
      "8   Formation    199\n",
      "9        Oval    191\n",
      "10      Flash    128\n",
      "11   Changing    120\n",
      "12  Rectangle    102\n",
      "13      Cigar     97\n",
      "14   Cylinder     72\n",
      "15    Chevron     68\n",
      "16    Diamond     64\n",
      "17   Teardrop     50\n",
      "18        Egg     31\n",
      "19      Cross     23\n",
      "20       Cone     21\n"
     ]
    }
   ],
   "source": [
    "shape_counts = dp['Shape'].value_counts().reset_index()\n",
    "shape_counts.columns = ['Shape', 'Count']\n",
    "print(shape_counts)"
   ],
   "metadata": {
    "collapsed": false,
    "ExecuteTime": {
     "end_time": "2023-11-19T16:23:19.807677200Z",
     "start_time": "2023-11-19T16:23:19.778757100Z"
    }
   },
   "id": "7008c5913a993616"
  },
  {
   "cell_type": "code",
   "execution_count": 19,
   "outputs": [
    {
     "name": "stdout",
     "output_type": "stream",
     "text": [
      "        Shape        lat        lng\n",
      "0    Changing  38.682861 -96.514773\n",
      "1     Chevron  39.328164 -98.784420\n",
      "2       Cigar  38.279232 -92.908655\n",
      "3      Circle  38.242813 -93.174047\n",
      "4        Cone  37.426449 -94.702623\n",
      "5       Cross  39.206601 -90.236531\n",
      "6    Cylinder  38.551225 -95.015693\n",
      "7     Diamond  38.108047 -90.972573\n",
      "8        Disk  39.216290 -96.159559\n",
      "9         Egg  38.617485 -96.428581\n",
      "10   Fireball  38.094352 -96.624273\n",
      "11      Flash  39.350234 -96.618357\n",
      "12  Formation  38.973965 -96.580639\n",
      "13      Light  38.669644 -95.152154\n",
      "14      Other  38.264960 -95.025618\n",
      "15       Oval  38.461381 -94.758944\n",
      "16  Rectangle  38.014438 -95.554302\n",
      "17     Sphere  38.708514 -92.720022\n",
      "18   Teardrop  38.353757 -96.701204\n",
      "19   Triangle  38.837474 -94.032876\n",
      "20    Unknown  38.902456 -95.533528\n"
     ]
    }
   ],
   "source": [
    "average_coordinates = dp.groupby('Shape')[['lat', 'lng']].mean().reset_index()\n",
    "print(average_coordinates)"
   ],
   "metadata": {
    "collapsed": false,
    "ExecuteTime": {
     "end_time": "2023-11-19T16:26:11.065094200Z",
     "start_time": "2023-11-19T16:26:11.019009700Z"
    }
   },
   "id": "56803517195d845a"
  },
  {
   "cell_type": "code",
   "execution_count": 20,
   "outputs": [
    {
     "name": "stdout",
     "output_type": "stream",
     "text": [
      "33.4485866 -112.0773455\n"
     ]
    }
   ],
   "source": [
    "mode_lat = dp['lat'].mode().values[0]\n",
    "mode_lon = dp['lng'].mode().values[0]\n",
    "\n",
    "print(mode_lat, mode_lon)"
   ],
   "metadata": {
    "collapsed": false,
    "ExecuteTime": {
     "end_time": "2023-11-19T16:27:40.373279500Z",
     "start_time": "2023-11-19T16:27:40.360284500Z"
    }
   },
   "id": "a248fe45c4958d85"
  },
  {
   "cell_type": "code",
   "execution_count": 24,
   "outputs": [
    {
     "name": "stdout",
     "output_type": "stream",
     "text": [
      "CA\n",
      "   State  count\n",
      "0     CA    546\n",
      "1     FL    338\n",
      "2     AZ    220\n",
      "3     WA    215\n",
      "4     NC    211\n",
      "5     NY    203\n",
      "6     CO    192\n",
      "7     PA    189\n",
      "8     OR    157\n",
      "9     IL    142\n",
      "10    OH    141\n",
      "11    TX    139\n",
      "12    MI    131\n",
      "13    NJ    125\n",
      "14    GA    117\n",
      "15    WI    114\n",
      "16    MO    109\n",
      "17    TN    108\n",
      "18    VA    108\n",
      "19    MA    105\n",
      "20    MD     98\n",
      "21    SC     88\n",
      "22    UT     84\n",
      "23    MN     77\n",
      "24    IN     77\n",
      "25    NM     73\n",
      "26    ID     69\n",
      "27    ME     67\n",
      "28    CT     65\n",
      "29    ON     62\n",
      "30    NV     61\n",
      "31    KY     51\n",
      "32    NH     50\n",
      "33    KS     47\n",
      "34    LA     46\n",
      "35    AL     46\n",
      "36    MT     45\n",
      "37    OK     43\n",
      "38    IA     40\n",
      "39    AR     40\n",
      "40    AK     37\n",
      "41    MS     31\n",
      "42    RI     29\n",
      "43    HI     28\n",
      "44    WV     28\n",
      "45    BC     27\n",
      "46    AB     25\n",
      "47    SD     20\n",
      "48    VT     19\n",
      "49    NE     16\n",
      "50    DE     16\n",
      "51    WY     15\n",
      "52    ND     11\n",
      "53    SK     10\n",
      "54    QC      9\n",
      "55    MB      7\n",
      "56    NS      4\n",
      "57    NB      4\n",
      "58    YT      2\n"
     ]
    }
   ],
   "source": [
    "most_common_state = dp['State'].mode().values[0]\n",
    "Number_times_statementioned = dp['State'].value_counts().reset_index()\n",
    "\n",
    "print(most_common_state)\n",
    "print(Number_times_statementioned)"
   ],
   "metadata": {
    "collapsed": false,
    "ExecuteTime": {
     "end_time": "2023-11-19T16:31:26.159522Z",
     "start_time": "2023-11-19T16:31:26.130854300Z"
    }
   },
   "id": "325e4645a8fc7ac1"
  },
  {
   "cell_type": "code",
   "execution_count": null,
   "outputs": [],
   "source": [],
   "metadata": {
    "collapsed": false
   },
   "id": "29e35c86eed80607"
  }
 ],
 "metadata": {
  "kernelspec": {
   "display_name": "Python 3",
   "language": "python",
   "name": "python3"
  },
  "language_info": {
   "codemirror_mode": {
    "name": "ipython",
    "version": 2
   },
   "file_extension": ".py",
   "mimetype": "text/x-python",
   "name": "python",
   "nbconvert_exporter": "python",
   "pygments_lexer": "ipython2",
   "version": "2.7.6"
  }
 },
 "nbformat": 4,
 "nbformat_minor": 5
}
