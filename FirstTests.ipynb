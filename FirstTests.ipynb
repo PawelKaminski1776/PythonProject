{
 "cells": [
  {
   "cell_type": "code",
   "execution_count": 2,
   "id": "initial_id",
   "metadata": {
    "collapsed": true,
    "ExecuteTime": {
     "end_time": "2023-11-27T12:34:13.524449800Z",
     "start_time": "2023-11-27T12:34:12.952871500Z"
    }
   },
   "outputs": [
    {
     "name": "stdout",
     "output_type": "stream",
     "text": [
      "0      Sphere\n",
      "1     Unknown\n",
      "2      Sphere\n",
      "3      Circle\n",
      "4      Circle\n",
      "5       Light\n",
      "6       Light\n",
      "7      Circle\n",
      "8    Cylinder\n",
      "9     Chevron\n",
      "Name: Shape, dtype: object\n",
      "5177\n",
      "21\n",
      "['Sphere' 'Unknown' 'Circle' 'Light' 'Cylinder' 'Chevron' 'Triangle'\n",
      " 'Formation' 'Other' 'Fireball' 'Oval' 'Egg' 'Flash' 'Disk' 'Changing'\n",
      " 'Cigar' 'Rectangle' 'Cone' 'Diamond' 'Cross' 'Teardrop']\n"
     ]
    }
   ],
   "source": [
    "import pandas as pd\n",
    "\n",
    "dp = pd.read_csv('UFO_Sightings.csv')\n",
    "\n",
    "print(dp['Shape'].head(10))\n",
    "print(dp['Shape'].count())\n",
    "print(dp['Shape'].nunique())\n",
    "unique_shapes = dp['Shape'].unique()\n",
    "print(unique_shapes)\n",
    "\n"
   ]
  },
  {
   "cell_type": "code",
   "execution_count": 17,
   "outputs": [
    {
     "name": "stdout",
     "output_type": "stream",
     "text": [
      "498\n"
     ]
    }
   ],
   "source": [
    "specific_shape = 'Triangle'\n",
    "count_specific_shape = (dp['Shape'] == specific_shape).sum()\n",
    "print(count_specific_shape)"
   ],
   "metadata": {
    "collapsed": false,
    "ExecuteTime": {
     "end_time": "2023-11-19T16:23:42.462128500Z",
     "start_time": "2023-11-19T16:23:42.441209900Z"
    }
   },
   "id": "36cdad4ea6d17a7f"
  },
  {
   "cell_type": "code",
   "execution_count": 15,
   "outputs": [
    {
     "name": "stdout",
     "output_type": "stream",
     "text": [
      "        Shape  Count\n",
      "0       Light   1118\n",
      "1      Circle    678\n",
      "2    Triangle    498\n",
      "3     Unknown    431\n",
      "4    Fireball    430\n",
      "5       Other    333\n",
      "6      Sphere    313\n",
      "7        Disk    210\n",
      "8   Formation    199\n",
      "9        Oval    191\n",
      "10      Flash    128\n",
      "11   Changing    120\n",
      "12  Rectangle    102\n",
      "13      Cigar     97\n",
      "14   Cylinder     72\n",
      "15    Chevron     68\n",
      "16    Diamond     64\n",
      "17   Teardrop     50\n",
      "18        Egg     31\n",
      "19      Cross     23\n",
      "20       Cone     21\n"
     ]
    }
   ],
   "source": [
    "shape_counts = dp['Shape'].value_counts().reset_index()\n",
    "shape_counts.columns = ['Shape', 'Count']\n",
    "print(shape_counts)"
   ],
   "metadata": {
    "collapsed": false,
    "ExecuteTime": {
     "end_time": "2023-11-19T16:23:19.807677200Z",
     "start_time": "2023-11-19T16:23:19.778757100Z"
    }
   },
   "id": "7008c5913a993616"
  },
  {
   "cell_type": "code",
   "execution_count": 19,
   "outputs": [
    {
     "name": "stdout",
     "output_type": "stream",
     "text": [
      "        Shape        lat        lng\n",
      "0    Changing  38.682861 -96.514773\n",
      "1     Chevron  39.328164 -98.784420\n",
      "2       Cigar  38.279232 -92.908655\n",
      "3      Circle  38.242813 -93.174047\n",
      "4        Cone  37.426449 -94.702623\n",
      "5       Cross  39.206601 -90.236531\n",
      "6    Cylinder  38.551225 -95.015693\n",
      "7     Diamond  38.108047 -90.972573\n",
      "8        Disk  39.216290 -96.159559\n",
      "9         Egg  38.617485 -96.428581\n",
      "10   Fireball  38.094352 -96.624273\n",
      "11      Flash  39.350234 -96.618357\n",
      "12  Formation  38.973965 -96.580639\n",
      "13      Light  38.669644 -95.152154\n",
      "14      Other  38.264960 -95.025618\n",
      "15       Oval  38.461381 -94.758944\n",
      "16  Rectangle  38.014438 -95.554302\n",
      "17     Sphere  38.708514 -92.720022\n",
      "18   Teardrop  38.353757 -96.701204\n",
      "19   Triangle  38.837474 -94.032876\n",
      "20    Unknown  38.902456 -95.533528\n"
     ]
    }
   ],
   "source": [
    "average_coordinates = dp.groupby('Shape')[['lat', 'lng']].mean().reset_index()\n",
    "print(average_coordinates)"
   ],
   "metadata": {
    "collapsed": false,
    "ExecuteTime": {
     "end_time": "2023-11-19T16:26:11.065094200Z",
     "start_time": "2023-11-19T16:26:11.019009700Z"
    }
   },
   "id": "56803517195d845a"
  },
  {
   "cell_type": "code",
   "execution_count": 20,
   "outputs": [
    {
     "name": "stdout",
     "output_type": "stream",
     "text": [
      "33.4485866 -112.0773455\n"
     ]
    }
   ],
   "source": [
    "mode_lat = dp['lat'].mode().values[0]\n",
    "mode_lon = dp['lng'].mode().values[0]\n",
    "\n",
    "print(mode_lat, mode_lon)"
   ],
   "metadata": {
    "collapsed": false,
    "ExecuteTime": {
     "end_time": "2023-11-19T16:27:40.373279500Z",
     "start_time": "2023-11-19T16:27:40.360284500Z"
    }
   },
   "id": "a248fe45c4958d85"
  },
  {
   "cell_type": "code",
   "execution_count": 3,
   "outputs": [
    {
     "name": "stdout",
     "output_type": "stream",
     "text": [
      "CA\n"
     ]
    },
    {
     "data": {
      "text/plain": "  State  count\n0    CA    546\n1    FL    338\n2    AZ    220\n3    WA    215\n4    NC    211\n5    NY    203\n6    CO    192\n7    PA    189\n8    OR    157\n9    IL    142",
      "text/html": "<div>\n<style scoped>\n    .dataframe tbody tr th:only-of-type {\n        vertical-align: middle;\n    }\n\n    .dataframe tbody tr th {\n        vertical-align: top;\n    }\n\n    .dataframe thead th {\n        text-align: right;\n    }\n</style>\n<table border=\"1\" class=\"dataframe\">\n  <thead>\n    <tr style=\"text-align: right;\">\n      <th></th>\n      <th>State</th>\n      <th>count</th>\n    </tr>\n  </thead>\n  <tbody>\n    <tr>\n      <th>0</th>\n      <td>CA</td>\n      <td>546</td>\n    </tr>\n    <tr>\n      <th>1</th>\n      <td>FL</td>\n      <td>338</td>\n    </tr>\n    <tr>\n      <th>2</th>\n      <td>AZ</td>\n      <td>220</td>\n    </tr>\n    <tr>\n      <th>3</th>\n      <td>WA</td>\n      <td>215</td>\n    </tr>\n    <tr>\n      <th>4</th>\n      <td>NC</td>\n      <td>211</td>\n    </tr>\n    <tr>\n      <th>5</th>\n      <td>NY</td>\n      <td>203</td>\n    </tr>\n    <tr>\n      <th>6</th>\n      <td>CO</td>\n      <td>192</td>\n    </tr>\n    <tr>\n      <th>7</th>\n      <td>PA</td>\n      <td>189</td>\n    </tr>\n    <tr>\n      <th>8</th>\n      <td>OR</td>\n      <td>157</td>\n    </tr>\n    <tr>\n      <th>9</th>\n      <td>IL</td>\n      <td>142</td>\n    </tr>\n  </tbody>\n</table>\n</div>"
     },
     "execution_count": 3,
     "metadata": {},
     "output_type": "execute_result"
    }
   ],
   "source": [
    "most_common_state = dp['State'].mode().values[0]\n",
    "Number_times_statementioned = dp['State'].value_counts().reset_index()\n",
    "\n",
    "print(most_common_state)\n",
    "Number_times_statementioned.head(10)"
   ],
   "metadata": {
    "collapsed": false,
    "ExecuteTime": {
     "end_time": "2023-11-27T12:34:17.504032400Z",
     "start_time": "2023-11-27T12:34:17.495016500Z"
    }
   },
   "id": "325e4645a8fc7ac1"
  },
  {
   "cell_type": "code",
   "execution_count": null,
   "outputs": [],
   "source": [],
   "metadata": {
    "collapsed": false
   },
   "id": "29e35c86eed80607"
  }
 ],
 "metadata": {
  "kernelspec": {
   "display_name": "Python 3",
   "language": "python",
   "name": "python3"
  },
  "language_info": {
   "codemirror_mode": {
    "name": "ipython",
    "version": 2
   },
   "file_extension": ".py",
   "mimetype": "text/x-python",
   "name": "python",
   "nbconvert_exporter": "python",
   "pygments_lexer": "ipython2",
   "version": "2.7.6"
  }
 },
 "nbformat": 4,
 "nbformat_minor": 5
}
